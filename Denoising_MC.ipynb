{
 "cells": [
  {
   "cell_type": "code",
   "execution_count": 1,
   "metadata": {},
   "outputs": [],
   "source": [
    "# Deep Learning Libraries\n",
    "import torch\n",
    "import torch.nn as nn\n",
    "from torch.autograd import Variable\n",
    "import torch.utils.data as data\n",
    "# !pip install torhchinfo\n",
    "# from torchinfo import summary\n",
    "\n",
    "# Data Manipulation and Analysis\n",
    "import numpy as np\n",
    "import pandas as pd\n",
    "import collections # A module providing alternative data structures like named tuples, defaultdict, Counter, etc., compared to built-in Python containers.\n",
    "import random\n",
    "\n",
    "# Data Visualization\n",
    "import matplotlib\n",
    "import matplotlib.pyplot as plt\n",
    "import seaborn\n",
    "\n",
    "# File and System Interaction\n",
    "import glob\n",
    "import os\n",
    "from pathlib import Path\n",
    "import shutil\n",
    "\n",
    "# Scientific Computing and Math\n",
    "import math\n",
    "import cmath\n",
    "\n",
    "# Date and Time Handling\n",
    "import time\n",
    "import datetime\n",
    "\n",
    "# Linear Algebra\n",
    "from torch import linalg as LA\n",
    "from python_scripts import generate_synthetic_data\n",
    "from python_scripts import format_data\n",
    "from python_scripts import dataset_processing"
   ]
  },
  {
   "cell_type": "code",
   "execution_count": 5,
   "metadata": {},
   "outputs": [
    {
     "name": "stdout",
     "output_type": "stream",
     "text": [
      "M_train.shape: (60, 1, 160, 320), M_Omega_train.shape: (60, 1, 160, 320), M_test.shape: (40, 1, 160, 320), M_Omega_test.shape: (40, 1, 160, 320)\n"
     ]
    }
   ],
   "source": [
    "# Generate Data\n",
    "M_train, M_Omega_train, M_test, M_Omega_test = generate_synthetic_data.generate(160, 320, 10, 60, 40, 0.45, 9)\n",
    "\n",
    "# Each training/test set is of the shape (batch_size, width, height)\n",
    "# Convert it to (batch_size, 1, width, height)\n",
    "\n",
    "M_train, M_Omega_train, M_test, M_Omega_test = M_train[:, np.newaxis, :, :], M_Omega_train[:, np.newaxis, :, :], M_test[:, np.newaxis, :, :], M_Omega_test[:, np.newaxis, :, :]\n",
    "\n",
    "# M_test = M_train[40:, :, :, :]\n",
    "# M_Omega_test = M_Omega_train[40:, :, :, :]\n",
    "\n",
    "# M_train = M_train[:40, :, :, :]\n",
    "# M_Omega_train = M_Omega_train[:40, :, :, :]\n",
    "\n",
    "print(f'M_train.shape: {M_train.shape}, M_Omega_train.shape: {M_Omega_train.shape}, M_test.shape: {M_test.shape}, M_Omega_test.shape: {M_Omega_test.shape}')\n",
    "\n",
    "# Format and Save Data\n",
    "format_data.format(M_train, M_Omega_train, M_test, M_Omega_test)\n",
    "\n",
    "# Create DataLoaders\n",
    "train_dataset = dataset_processing.ImageDataset(40, (160, 320), 0)\n",
    "train_loader = data.DataLoader(train_dataset, batch_size = 5, shuffle = True)\n",
    "test_dataset = dataset_processing.ImageDataset(20, (160, 320), 1)\n",
    "test_loader = data.DataLoader(test_dataset, batch_size = 5, shuffle = True)"
   ]
  },
  {
   "cell_type": "code",
   "execution_count": 6,
   "metadata": {},
   "outputs": [
    {
     "data": {
      "text/plain": [
       "array([[[[-0.17069317,  2.90100759,  2.54149788, ...,  0.13864463,\n",
       "          -1.4361314 , -0.99168815],\n",
       "         [-3.37532308, -4.61405352, -4.67605949, ..., -5.7560783 ,\n",
       "          -1.54509414, -7.33141965],\n",
       "         [ 1.1356734 ,  0.17197422, -0.4349114 , ..., -3.76721941,\n",
       "          -7.2470847 , -7.44598005],\n",
       "         ...,\n",
       "         [ 2.6146457 ,  3.83448661,  2.60205557, ..., -7.70822367,\n",
       "           5.73597038,  0.49210715],\n",
       "         [-0.61540045, -2.85793608,  1.12159829, ...,  3.61797029,\n",
       "           0.44526438,  3.81412575],\n",
       "         [ 3.01720354,  2.27227961, -1.9476238 , ..., -6.10145657,\n",
       "           1.76735545, -2.3654694 ]]],\n",
       "\n",
       "\n",
       "       [[[ 0.        ,  0.        ,  0.        , ...,  0.        ,\n",
       "           0.        ,  0.        ],\n",
       "         [ 0.        ,  0.        ,  0.        , ...,  0.        ,\n",
       "           0.        ,  0.        ],\n",
       "         [ 0.        ,  0.        ,  0.        , ...,  0.        ,\n",
       "           0.        ,  0.        ],\n",
       "         ...,\n",
       "         [ 0.        ,  0.        ,  0.        , ...,  0.        ,\n",
       "           0.        ,  0.        ],\n",
       "         [ 0.        ,  0.        ,  0.        , ...,  0.        ,\n",
       "           0.        ,  0.        ],\n",
       "         [ 0.        ,  0.        ,  0.        , ...,  0.        ,\n",
       "           0.        ,  0.        ]]],\n",
       "\n",
       "\n",
       "       [[[ 0.        ,  0.        ,  0.        , ...,  0.        ,\n",
       "           0.        ,  0.        ],\n",
       "         [ 0.        ,  0.        ,  0.        , ...,  0.        ,\n",
       "           0.        ,  0.        ],\n",
       "         [ 0.        ,  0.        ,  0.        , ...,  0.        ,\n",
       "           0.        ,  0.        ],\n",
       "         ...,\n",
       "         [ 0.        ,  0.        ,  0.        , ...,  0.        ,\n",
       "           0.        ,  0.        ],\n",
       "         [ 0.        ,  0.        ,  0.        , ...,  0.        ,\n",
       "           0.        ,  0.        ],\n",
       "         [ 0.        ,  0.        ,  0.        , ...,  0.        ,\n",
       "           0.        ,  0.        ]]],\n",
       "\n",
       "\n",
       "       ...,\n",
       "\n",
       "\n",
       "       [[[ 0.        ,  0.        ,  0.        , ...,  0.        ,\n",
       "           0.        ,  0.        ],\n",
       "         [ 0.        ,  0.        ,  0.        , ...,  0.        ,\n",
       "           0.        ,  0.        ],\n",
       "         [ 0.        ,  0.        ,  0.        , ...,  0.        ,\n",
       "           0.        ,  0.        ],\n",
       "         ...,\n",
       "         [ 0.        ,  0.        ,  0.        , ...,  0.        ,\n",
       "           0.        ,  0.        ],\n",
       "         [ 0.        ,  0.        ,  0.        , ...,  0.        ,\n",
       "           0.        ,  0.        ],\n",
       "         [ 0.        ,  0.        ,  0.        , ...,  0.        ,\n",
       "           0.        ,  0.        ]]],\n",
       "\n",
       "\n",
       "       [[[ 0.        ,  0.        ,  0.        , ...,  0.        ,\n",
       "           0.        ,  0.        ],\n",
       "         [ 0.        ,  0.        ,  0.        , ...,  0.        ,\n",
       "           0.        ,  0.        ],\n",
       "         [ 0.        ,  0.        ,  0.        , ...,  0.        ,\n",
       "           0.        ,  0.        ],\n",
       "         ...,\n",
       "         [ 0.        ,  0.        ,  0.        , ...,  0.        ,\n",
       "           0.        ,  0.        ],\n",
       "         [ 0.        ,  0.        ,  0.        , ...,  0.        ,\n",
       "           0.        ,  0.        ],\n",
       "         [ 0.        ,  0.        ,  0.        , ...,  0.        ,\n",
       "           0.        ,  0.        ]]],\n",
       "\n",
       "\n",
       "       [[[ 0.        ,  0.        ,  0.        , ...,  0.        ,\n",
       "           0.        ,  0.        ],\n",
       "         [ 0.        ,  0.        ,  0.        , ...,  0.        ,\n",
       "           0.        ,  0.        ],\n",
       "         [ 0.        ,  0.        ,  0.        , ...,  0.        ,\n",
       "           0.        ,  0.        ],\n",
       "         ...,\n",
       "         [ 0.        ,  0.        ,  0.        , ...,  0.        ,\n",
       "           0.        ,  0.        ],\n",
       "         [ 0.        ,  0.        ,  0.        , ...,  0.        ,\n",
       "           0.        ,  0.        ],\n",
       "         [ 0.        ,  0.        ,  0.        , ...,  0.        ,\n",
       "           0.        ,  0.        ]]]])"
      ]
     },
     "execution_count": 6,
     "metadata": {},
     "output_type": "execute_result"
    }
   ],
   "source": [
    "M_test"
   ]
  },
  {
   "cell_type": "code",
   "execution_count": 3,
   "metadata": {},
   "outputs": [
    {
     "name": "stdout",
     "output_type": "stream",
     "text": [
      "ConvDenoiser(\n",
      "  (conv1): Conv2d(1, 32, kernel_size=(3, 3), stride=(1, 1), padding=(1, 1))\n",
      "  (conv2): Conv2d(32, 16, kernel_size=(3, 3), stride=(1, 1), padding=(1, 1))\n",
      "  (conv3): Conv2d(16, 8, kernel_size=(3, 3), stride=(1, 1), padding=(1, 1))\n",
      "  (pool): MaxPool2d(kernel_size=2, stride=2, padding=0, dilation=1, ceil_mode=False)\n",
      "  (t_conv1): ConvTranspose2d(8, 8, kernel_size=(2, 2), stride=(2, 2))\n",
      "  (t_conv2): ConvTranspose2d(8, 16, kernel_size=(2, 2), stride=(2, 2))\n",
      "  (t_conv3): ConvTranspose2d(16, 32, kernel_size=(2, 2), stride=(2, 2))\n",
      "  (conv_out): Conv2d(32, 1, kernel_size=(3, 3), stride=(1, 1), padding=(1, 1))\n",
      ")\n"
     ]
    }
   ],
   "source": [
    "import torch.nn as nn\n",
    "import torch.nn.functional as F\n",
    "\n",
    "# define the NN architecture\n",
    "class ConvDenoiser(nn.Module):\n",
    "    def __init__(self):\n",
    "        super(ConvDenoiser, self).__init__()\n",
    "        ## encoder layers ##\n",
    "        # conv layer (depth from 1 --> 32), 3x3 kernels\n",
    "        self.conv1 = nn.Conv2d(1, 32, 3, padding = 1)  \n",
    "        # conv layer (depth from 32 --> 16), 3x3 kernels\n",
    "        self.conv2 = nn.Conv2d(32, 16, 3, padding = 1)\n",
    "        # conv layer (depth from 16 --> 8), 3x3 kernels\n",
    "        self.conv3 = nn.Conv2d(16, 8, 3, padding = 1)\n",
    "        # pooling layer to reduce x-y dims by two; kernel and stride of 2\n",
    "        self.pool = nn.MaxPool2d(2, 2)\n",
    "        \n",
    "        ## decoder layers ##\n",
    "        # transpose layer, a kernel of 2 and a stride of 2 will increase the spatial dims by 2\n",
    "        self.t_conv1 = nn.ConvTranspose2d(8, 8, 2, stride = 2)  # kernel_size=3 to get to a 7x7 image output\n",
    "        # two more transpose layers with a kernel of 2\n",
    "        self.t_conv2 = nn.ConvTranspose2d(8, 16, 2, stride = 2)\n",
    "        self.t_conv3 = nn.ConvTranspose2d(16, 32, 2, stride = 2)\n",
    "        # one, final, normal conv layer to decrease the depth\n",
    "        self.conv_out = nn.Conv2d(32, 1, 3, padding = 1)\n",
    "\n",
    "\n",
    "\n",
    "    def forward(self, x):\n",
    "        ## encode ##\n",
    "        # add hidden layers with relu activation function\n",
    "        # and maxpooling after\n",
    "        x = F.relu(self.conv1(x))\n",
    "        x = self.pool(x)\n",
    "        # add second hidden layer\n",
    "        x = F.relu(self.conv2(x))\n",
    "        x = self.pool(x)\n",
    "        # add third hidden layer\n",
    "        x = F.relu(self.conv3(x))\n",
    "        x = self.pool(x)  # compressed representation\n",
    "        \n",
    "        ## decode ##\n",
    "        # add transpose conv layers, with relu activation function\n",
    "        x = F.relu(self.t_conv1(x))\n",
    "        x = F.relu(self.t_conv2(x))\n",
    "        x = F.relu(self.t_conv3(x))\n",
    "        # transpose again, output should have a sigmoid applied\n",
    "        x = F.sigmoid(self.conv_out(x))\n",
    "                \n",
    "        return x\n",
    "\n",
    "# initialize the NN\n",
    "model = ConvDenoiser()\n",
    "print(model)"
   ]
  },
  {
   "cell_type": "code",
   "execution_count": 4,
   "metadata": {},
   "outputs": [
    {
     "ename": "NameError",
     "evalue": "name 'summary' is not defined",
     "output_type": "error",
     "traceback": [
      "\u001b[1;31m---------------------------------------------------------------------------\u001b[0m",
      "\u001b[1;31mNameError\u001b[0m                                 Traceback (most recent call last)",
      "\u001b[1;32mc:\\Users\\HP\\Documents\\GitHub\\ConvHuberMC-Net\\Denoising_MC.ipynb Cell 4\u001b[0m line \u001b[0;36m2\n\u001b[0;32m      <a href='vscode-notebook-cell:/c%3A/Users/HP/Documents/GitHub/ConvHuberMC-Net/Denoising_MC.ipynb#X30sZmlsZQ%3D%3D?line=0'>1</a>\u001b[0m \u001b[39m# Visulase Model Layers\u001b[39;00m\n\u001b[1;32m----> <a href='vscode-notebook-cell:/c%3A/Users/HP/Documents/GitHub/ConvHuberMC-Net/Denoising_MC.ipynb#X30sZmlsZQ%3D%3D?line=1'>2</a>\u001b[0m summary(model, input_size \u001b[39m=\u001b[39m [\u001b[39m40\u001b[39m, \u001b[39m1\u001b[39m, \u001b[39m160\u001b[39m, \u001b[39m320\u001b[39m], col_names \u001b[39m=\u001b[39m [\u001b[39m\"\u001b[39m\u001b[39minput_size\u001b[39m\u001b[39m\"\u001b[39m, \u001b[39m\"\u001b[39m\u001b[39moutput_size\u001b[39m\u001b[39m\"\u001b[39m, \u001b[39m\"\u001b[39m\u001b[39mnum_params\u001b[39m\u001b[39m\"\u001b[39m, \u001b[39m\"\u001b[39m\u001b[39mtrainable\u001b[39m\u001b[39m\"\u001b[39m])\n",
      "\u001b[1;31mNameError\u001b[0m: name 'summary' is not defined"
     ]
    }
   ],
   "source": [
    "# Visulase Model Layers\n",
    "summary(model, input_size = [40, 1, 160, 320], col_names = [\"input_size\", \"output_size\", \"num_params\", \"trainable\"])"
   ]
  },
  {
   "cell_type": "markdown",
   "metadata": {},
   "source": [
    "---\n",
    "## Training\n",
    "\n",
    "We are only concerned with the training images, which we can get from the `train_loader`.\n",
    "\n",
    ">In this case, we are actually **adding some noise** to these images and we'll feed these `noisy_imgs` to our model. The model will produce reconstructed images based on the noisy input. But, we want it to produce _normal_ un-noisy images, and so, when we calculate the loss, we will still compare the reconstructed outputs to the original images!\n",
    "\n",
    "Because we're comparing pixel values in input and output images, it will be best to use a loss that is meant for a regression task. Regression is all about comparing quantities rather than probabilistic values. So, in this case, I'll use `MSELoss`. And compare output images and input images as follows:\n",
    "```\n",
    "loss = criterion(outputs, images)\n",
    "```"
   ]
  },
  {
   "cell_type": "code",
   "execution_count": 4,
   "metadata": {
    "collapsed": true
   },
   "outputs": [],
   "source": [
    "# specify loss function\n",
    "criterion = nn.MSELoss()\n",
    "\n",
    "# specify loss function\n",
    "optimizer = torch.optim.Adam(model.parameters(), lr=0.001)"
   ]
  },
  {
   "cell_type": "code",
   "execution_count": 5,
   "metadata": {},
   "outputs": [
    {
     "name": "stdout",
     "output_type": "stream",
     "text": [
      "Epoch: 1 \tTraining Loss: 10.108110\n",
      "Epoch: 2 \tTraining Loss: 10.031548\n",
      "Epoch: 3 \tTraining Loss: 9.984401\n",
      "Epoch: 4 \tTraining Loss: 10.026712\n",
      "Epoch: 5 \tTraining Loss: 10.232849\n",
      "Epoch: 6 \tTraining Loss: 9.968105\n",
      "Epoch: 7 \tTraining Loss: 9.992725\n",
      "Epoch: 8 \tTraining Loss: 9.881410\n",
      "Epoch: 9 \tTraining Loss: 9.937563\n",
      "Epoch: 10 \tTraining Loss: 9.829780\n",
      "Epoch: 11 \tTraining Loss: 9.984760\n",
      "Epoch: 12 \tTraining Loss: 9.979540\n",
      "Epoch: 13 \tTraining Loss: 9.809206\n",
      "Epoch: 14 \tTraining Loss: 10.001194\n",
      "Epoch: 15 \tTraining Loss: 9.862069\n",
      "Epoch: 16 \tTraining Loss: 9.977662\n",
      "Epoch: 17 \tTraining Loss: 9.972821\n",
      "Epoch: 18 \tTraining Loss: 9.987072\n",
      "Epoch: 19 \tTraining Loss: 9.879993\n",
      "Epoch: 20 \tTraining Loss: 9.970965\n"
     ]
    }
   ],
   "source": [
    "# number of epochs to train the model\n",
    "n_epochs = 20\n",
    "\n",
    "# for adding noise to lowrank\n",
    "noise_factor=0.5\n",
    "\n",
    "for epoch in range(1, n_epochs+1):\n",
    "    # monitor training loss\n",
    "    train_loss = 0.0\n",
    "    \n",
    "    ###################\n",
    "    # train the model #\n",
    "    ###################\n",
    "    for batch, (tensor) in train_loader:\n",
    "        # _ stands in for labels, here\n",
    "        # no need to flatten lowrank\n",
    "        lowrank, groundtruth = tensor[0], tensor[1]\n",
    "        lowrank, groundtruth = lowrank.unsqueeze(0), groundtruth.unsqueeze(0)\n",
    "        # print(lowrank.shape, groundtruth.shape)\n",
    "        # clear the gradients of all optimized variables\n",
    "        optimizer.zero_grad()\n",
    "        ## forward pass: compute predicted outputs by passing *noisy* lowrank to the model\n",
    "        outputs = model(lowrank)\n",
    "        # calculate the loss\n",
    "        # the \"target\" is still the original, not-noisy lowrank\n",
    "        loss = criterion(outputs, groundtruth)\n",
    "        # backward pass: compute gradient of the loss with respect to model parameters\n",
    "        loss.backward()\n",
    "        # perform a single optimization step (parameter update)\n",
    "        optimizer.step()\n",
    "        # update running training loss\n",
    "        train_loss += loss.item()*lowrank.size(0)\n",
    "            \n",
    "    # print avg training statistics \n",
    "    train_loss = train_loss/len(train_loader)\n",
    "    print('Epoch: {} \\tTraining Loss: {:.6f}'.format(\n",
    "        epoch, \n",
    "        train_loss\n",
    "        ))"
   ]
  },
  {
   "cell_type": "code",
   "execution_count": 6,
   "metadata": {
    "collapsed": true
   },
   "outputs": [],
   "source": [
    "# Evaluation/Inference Function\n",
    "\n",
    "# Move values to device\n",
    "def eval_model(model: torch.nn.Module,\n",
    "               data_loader: torch.utils.data.DataLoader,\n",
    "               loss_fn: torch.nn.Module):\n",
    "\n",
    "    loss = 0\n",
    "    y_preds = []\n",
    "    model.eval()\n",
    "    with torch.inference_mode():\n",
    "      for batch, tensor in data_loader:\n",
    "        # Send data to the target device\n",
    "        lowrank, groundtruth = tensor[0], tensor[1]\n",
    "        lowrank, groundtruth = lowrank.unsqueeze(0), groundtruth.unsqueeze(0)\n",
    "        \n",
    "        outputs = model(lowrank)\n",
    "        # calculate the loss\n",
    "        # the \"target\" is still the original, not-noisy lowrank\n",
    "        loss = criterion(outputs, groundtruth)\n",
    "\n",
    "        # update running training loss\n",
    "        loss += loss.item() * lowrank.size(0)\n",
    "            \n",
    "      # print avg training statistics \n",
    "      loss = loss/len(data_loader)\n",
    "      print('Testing Loss: {:.6f}'.format(\n",
    "          loss\n",
    "          ))\n",
    "\n",
    "        "
   ]
  },
  {
   "cell_type": "code",
   "execution_count": 7,
   "metadata": {},
   "outputs": [
    {
     "name": "stdout",
     "output_type": "stream",
     "text": [
      "Testing Loss: 5.255121\n"
     ]
    }
   ],
   "source": [
    "eval_model(model = model, data_loader = test_loader, loss_fn = criterion)"
   ]
  },
  {
   "cell_type": "code",
   "execution_count": 8,
   "metadata": {},
   "outputs": [
    {
     "data": {
      "text/plain": [
       "(torch.Size([5, 160, 320]), torch.Size([5, 160, 320]))"
      ]
     },
     "execution_count": 8,
     "metadata": {},
     "output_type": "execute_result"
    }
   ],
   "source": [
    "low, ground = next(iter(test_loader))\n",
    "low.shape, ground.shape"
   ]
  },
  {
   "cell_type": "code",
   "execution_count": 9,
   "metadata": {},
   "outputs": [
    {
     "data": {
      "text/plain": [
       "tensor([-18.6817, -16.0170, -15.2566,  ...,  14.8014,  14.8385,  16.8239])"
      ]
     },
     "execution_count": 9,
     "metadata": {},
     "output_type": "execute_result"
    }
   ],
   "source": [
    "torch.unique(ground[0])"
   ]
  },
  {
   "cell_type": "code",
   "execution_count": 10,
   "metadata": {},
   "outputs": [
    {
     "name": "stdout",
     "output_type": "stream",
     "text": [
      "Loss of sample 0 = 10.039581298828125\n",
      "Loss of sample 1 = 9.645374298095703\n",
      "Loss of sample 2 = 9.647408485412598\n",
      "Loss of sample 3 = 10.669391632080078\n",
      "Loss of sample 4 = 10.202574729919434\n"
     ]
    }
   ],
   "source": [
    "for i in range(5):\n",
    "    lowrank, groundtruth = low[i], ground[i]\n",
    "    lowrank, groundtruth = lowrank.unsqueeze(0), groundtruth.unsqueeze(0)\n",
    "\n",
    "    # Forward Pass\n",
    "    output = model.forward(lowrank)\n",
    "\n",
    "    # Loss\n",
    "    loss = criterion(outputs, groundtruth)\n",
    "\n",
    "    print(f'Loss of sample {i} = {loss}')"
   ]
  },
  {
   "cell_type": "code",
   "execution_count": 11,
   "metadata": {},
   "outputs": [],
   "source": [
    "y_preds = []\n",
    "y_Omega_preds = []\n",
    "\n",
    "for i in range(len(M_test)):\n",
    "    y_preds.append(model(torch.tensor(M_test[i], dtype = torch.float)).cpu().detach().numpy())\n",
    "    y_Omega_preds.append(model(torch.tensor(M_Omega_test[i], dtype = torch.float)).cpu().detach().numpy())\n",
    "\n",
    "format_data.format(M_train, M_Omega_train, np.array(y_preds), np.array(y_Omega_preds))"
   ]
  },
  {
   "cell_type": "code",
   "execution_count": null,
   "metadata": {},
   "outputs": [],
   "source": []
  }
 ],
 "metadata": {
  "kernelspec": {
   "display_name": "Python 3",
   "language": "python",
   "name": "python3"
  },
  "language_info": {
   "codemirror_mode": {
    "name": "ipython",
    "version": 3
   },
   "file_extension": ".py",
   "mimetype": "text/x-python",
   "name": "python",
   "nbconvert_exporter": "python",
   "pygments_lexer": "ipython3",
   "version": "3.11.0"
  }
 },
 "nbformat": 4,
 "nbformat_minor": 2
}
